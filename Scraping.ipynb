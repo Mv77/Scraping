{
 "cells": [
  {
   "cell_type": "markdown",
   "metadata": {},
   "source": [
    "## News scraping\n",
    "\n",
    "This notebook exctracts news from www.minuto30.com based on the tutorial in https://www.dataquest.io/blog/web-scraping-tutorial-python/"
   ]
  },
  {
   "cell_type": "markdown",
   "metadata": {},
   "source": [
    "Get the html code for the headlines page for Medellín"
   ]
  },
  {
   "cell_type": "code",
   "execution_count": 6,
   "metadata": {},
   "outputs": [],
   "source": [
    "import requests\n",
    "from bs4 import BeautifulSoup\n",
    "import pandas as pd\n",
    "import re\n",
    "\n",
    "page_med = requests.get(\"https://www.minuto30.com/medellin/\")\n",
    "soup_med = BeautifulSoup(page_med.content, 'html.parser')"
   ]
  },
  {
   "cell_type": "markdown",
   "metadata": {},
   "source": [
    "The page presents all the artciles in a container of class \"main-content\". Within that container, news articles are in boxes of the class \"mh-posts-list-content\".\n",
    "\n",
    "We extract the code in the main container and then find all the articles. We display the code for the first article."
   ]
  },
  {
   "cell_type": "code",
   "execution_count": 3,
   "metadata": {},
   "outputs": [
    {
     "name": "stdout",
     "output_type": "stream",
     "text": [
      "<div class=\"mh-posts-list-content clearfix\">\n",
      " <header class=\"mh-posts-list-header\">\n",
      "  <h3 class=\"entry-title mh-posts-list-title\">\n",
      "   <a href=\"https://www.minuto30.com/caminaba-por-el-barrio-cristobal-cuando-motorizados-se-acercaron-y-dispararon-en-su-contra/635435/\" rel=\"bookmark\" title=\"Caminaba por el barrio Cristóbal cuando motorizados se acercaron y dispararon en su contra\">\n",
      "    Caminaba por el barrio Cristóbal cuando motorizados se acercaron y dispararon en su contra\n",
      "   </a>\n",
      "  </h3>\n",
      "  <div class=\"mh-meta entry-meta\">\n",
      "   <span class=\"entry-meta-date updated\">\n",
      "    <i class=\"fa fa-clock-o\">\n",
      "    </i>\n",
      "    <a href=\"https://www.minuto30.com/date/2018/06/\">\n",
      "     2 junio, 2018\n",
      "    </a>\n",
      "   </span>\n",
      "   <span class=\"entry-meta-author author vcard\">\n",
      "    <i class=\"fa fa-user\">\n",
      "    </i>\n",
      "    <a class=\"fn\" href=\"https://www.minuto30.com/author/mauricio-berrio/\">\n",
      "     Mauricio Berrío\n",
      "    </a>\n",
      "   </span>\n",
      "  </div>\n",
      " </header>\n",
      " <div class=\"mh-posts-list-excerpt clearfix\">\n",
      "  <div class=\"mh-excerpt\">\n",
      "   <p>\n",
      "    Minuto30.com- Cuando caminaba por una calle del barrio Cristóbal, Comuna 12, La América, un joven de 24 años de edad fue\n",
      "    <a class=\"mh-excerpt-more\" href=\"https://www.minuto30.com/caminaba-por-el-barrio-cristobal-cuando-motorizados-se-acercaron-y-dispararon-en-su-contra/635435/\" title=\"Caminaba por el barrio Cristóbal cuando motorizados se acercaron y dispararon en su contra\">\n",
      "     [Leer Más…]\n",
      "    </a>\n",
      "   </p>\n",
      "  </div>\n",
      " </div>\n",
      "</div>\n",
      "\n"
     ]
    }
   ],
   "source": [
    "news = soup_med.find(id=\"main-content\")\n",
    "articles = news.find_all(class_=\"mh-posts-list-content\")\n",
    "ar = articles[0]\n",
    "print(ar.prettify())"
   ]
  },
  {
   "cell_type": "markdown",
   "metadata": {},
   "source": [
    "We extract the title, date, and author from each article."
   ]
  },
  {
   "cell_type": "code",
   "execution_count": 4,
   "metadata": {},
   "outputs": [
    {
     "name": "stdout",
     "output_type": "stream",
     "text": [
      "['Caminaba por el barrio Cristóbal cuando motorizados se acercaron y dispararon en su contra', 'VIDEO y FOTOS: Se le montaron a la volqueta y le dispararon en repetidas ocasiones', 'Dos carros y tres motos fueron recuperados por la Policía en el Valle de Aburrá', 'VIDEO: Una valiente patrullera, entre los policías que lograron frustrar el robo a banco en La América', 'FOTOS: Debido a una fuga en la red hay interrupción del servicio de acueducto en sectores de Medellín y Bello', 'FOTOS: Dos menores caminaban por El Danubio y fueron atacados a disparos', 'En medio de una riña un hombre resultó muerto en el Centro de Medellín', 'Ladrón fue capturado en Las Palmas con elementos avaluados en $400.000', 'EN VIDEO: Tracto camión se quedó sin frenos bajando del túnel de Occidente', 'Capturado en el barrio 13 de Noviembre']\n",
      "['2 junio, 2018', '2 junio, 2018', '2 junio, 2018', '2 junio, 2018', '2 junio, 2018', '2 junio, 2018', '2 junio, 2018', '2 junio, 2018', '1 junio, 2018', '1 junio, 2018']\n",
      "['Mauricio Berrío', 'Mauricio Berrío', 'Mauricio Berrío', 'ZPaola Agredo', 'ZPaola Agredo', 'Mauricio Berrío', 'Mauricio Berrío', 'Mauricio Berrío', 'Stephany Ceballos', 'Mauricio Berrío']\n"
     ]
    }
   ],
   "source": [
    "titles = news.select(\".mh-posts-list-content .entry-title\")\n",
    "titles = [ti.get_text() for ti in titles]\n",
    "titles = [re.sub(\"(\\\\n|\\\\t)\",\"\",ti) for ti in titles]\n",
    "print(titles)\n",
    "\n",
    "dates = news.select(\".mh-meta .entry-meta-date\")\n",
    "dates = [d.get_text() for d in dates]\n",
    "print(dates)\n",
    "\n",
    "authors = news.select(\".mh-meta .entry-meta-author\")\n",
    "authors = [at.get_text() for at in authors]\n",
    "print(authors)"
   ]
  },
  {
   "cell_type": "markdown",
   "metadata": {},
   "source": [
    "We organize the results in a dataframe."
   ]
  },
  {
   "cell_type": "code",
   "execution_count": 7,
   "metadata": {
    "scrolled": true
   },
   "outputs": [
    {
     "data": {
      "text/html": [
       "<div>\n",
       "<style scoped>\n",
       "    .dataframe tbody tr th:only-of-type {\n",
       "        vertical-align: middle;\n",
       "    }\n",
       "\n",
       "    .dataframe tbody tr th {\n",
       "        vertical-align: top;\n",
       "    }\n",
       "\n",
       "    .dataframe thead th {\n",
       "        text-align: right;\n",
       "    }\n",
       "</style>\n",
       "<table border=\"1\" class=\"dataframe\">\n",
       "  <thead>\n",
       "    <tr style=\"text-align: right;\">\n",
       "      <th></th>\n",
       "      <th>author</th>\n",
       "      <th>date</th>\n",
       "      <th>title</th>\n",
       "    </tr>\n",
       "  </thead>\n",
       "  <tbody>\n",
       "    <tr>\n",
       "      <th>0</th>\n",
       "      <td>Mauricio Berrío</td>\n",
       "      <td>2 junio, 2018</td>\n",
       "      <td>Caminaba por el barrio Cristóbal cuando motori...</td>\n",
       "    </tr>\n",
       "    <tr>\n",
       "      <th>1</th>\n",
       "      <td>Mauricio Berrío</td>\n",
       "      <td>2 junio, 2018</td>\n",
       "      <td>VIDEO y FOTOS: Se le montaron a la volqueta y ...</td>\n",
       "    </tr>\n",
       "    <tr>\n",
       "      <th>2</th>\n",
       "      <td>Mauricio Berrío</td>\n",
       "      <td>2 junio, 2018</td>\n",
       "      <td>Dos carros y tres motos fueron recuperados por...</td>\n",
       "    </tr>\n",
       "    <tr>\n",
       "      <th>3</th>\n",
       "      <td>ZPaola Agredo</td>\n",
       "      <td>2 junio, 2018</td>\n",
       "      <td>VIDEO: Una valiente patrullera, entre los poli...</td>\n",
       "    </tr>\n",
       "    <tr>\n",
       "      <th>4</th>\n",
       "      <td>ZPaola Agredo</td>\n",
       "      <td>2 junio, 2018</td>\n",
       "      <td>FOTOS: Debido a una fuga en la red hay interru...</td>\n",
       "    </tr>\n",
       "    <tr>\n",
       "      <th>5</th>\n",
       "      <td>Mauricio Berrío</td>\n",
       "      <td>2 junio, 2018</td>\n",
       "      <td>FOTOS: Dos menores caminaban por El Danubio y ...</td>\n",
       "    </tr>\n",
       "    <tr>\n",
       "      <th>6</th>\n",
       "      <td>Mauricio Berrío</td>\n",
       "      <td>2 junio, 2018</td>\n",
       "      <td>En medio de una riña un hombre resultó muerto ...</td>\n",
       "    </tr>\n",
       "    <tr>\n",
       "      <th>7</th>\n",
       "      <td>Mauricio Berrío</td>\n",
       "      <td>2 junio, 2018</td>\n",
       "      <td>Ladrón fue capturado en Las Palmas con element...</td>\n",
       "    </tr>\n",
       "    <tr>\n",
       "      <th>8</th>\n",
       "      <td>Stephany Ceballos</td>\n",
       "      <td>1 junio, 2018</td>\n",
       "      <td>EN VIDEO: Tracto camión se quedó sin frenos ba...</td>\n",
       "    </tr>\n",
       "    <tr>\n",
       "      <th>9</th>\n",
       "      <td>Mauricio Berrío</td>\n",
       "      <td>1 junio, 2018</td>\n",
       "      <td>Capturado en el barrio 13 de Noviembre</td>\n",
       "    </tr>\n",
       "  </tbody>\n",
       "</table>\n",
       "</div>"
      ],
      "text/plain": [
       "              author           date  \\\n",
       "0    Mauricio Berrío  2 junio, 2018   \n",
       "1    Mauricio Berrío  2 junio, 2018   \n",
       "2    Mauricio Berrío  2 junio, 2018   \n",
       "3      ZPaola Agredo  2 junio, 2018   \n",
       "4      ZPaola Agredo  2 junio, 2018   \n",
       "5    Mauricio Berrío  2 junio, 2018   \n",
       "6    Mauricio Berrío  2 junio, 2018   \n",
       "7    Mauricio Berrío  2 junio, 2018   \n",
       "8  Stephany Ceballos  1 junio, 2018   \n",
       "9    Mauricio Berrío  1 junio, 2018   \n",
       "\n",
       "                                               title  \n",
       "0  Caminaba por el barrio Cristóbal cuando motori...  \n",
       "1  VIDEO y FOTOS: Se le montaron a la volqueta y ...  \n",
       "2  Dos carros y tres motos fueron recuperados por...  \n",
       "3  VIDEO: Una valiente patrullera, entre los poli...  \n",
       "4  FOTOS: Debido a una fuga en la red hay interru...  \n",
       "5  FOTOS: Dos menores caminaban por El Danubio y ...  \n",
       "6  En medio de una riña un hombre resultó muerto ...  \n",
       "7  Ladrón fue capturado en Las Palmas con element...  \n",
       "8  EN VIDEO: Tracto camión se quedó sin frenos ba...  \n",
       "9             Capturado en el barrio 13 de Noviembre  "
      ]
     },
     "execution_count": 7,
     "metadata": {},
     "output_type": "execute_result"
    }
   ],
   "source": [
    "news = pd.DataFrame({\n",
    "        \"date\": dates, \n",
    "        \"author\": authors, \n",
    "        \"title\": titles\n",
    "    })\n",
    "news"
   ]
  }
 ],
 "metadata": {
  "kernelspec": {
   "display_name": "Python 3",
   "language": "python",
   "name": "python3"
  },
  "language_info": {
   "codemirror_mode": {
    "name": "ipython",
    "version": 3
   },
   "file_extension": ".py",
   "mimetype": "text/x-python",
   "name": "python",
   "nbconvert_exporter": "python",
   "pygments_lexer": "ipython3",
   "version": "3.6.5"
  }
 },
 "nbformat": 4,
 "nbformat_minor": 2
}
